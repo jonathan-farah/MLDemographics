{
  "nbformat": 4,
  "nbformat_minor": 0,
  "metadata": {
    "colab": {
      "provenance": [],
      "authorship_tag": "ABX9TyOR18wijkqdVp4F7x4/1QWf",
      "include_colab_link": true
    },
    "kernelspec": {
      "name": "python3",
      "display_name": "Python 3"
    },
    "language_info": {
      "name": "python"
    }
  },
  "cells": [
    {
      "cell_type": "markdown",
      "metadata": {
        "id": "view-in-github",
        "colab_type": "text"
      },
      "source": [
        "<a href=\"https://colab.research.google.com/github/jonathan-farah/MLDemographics/blob/main/ARIMA_FINAL.ipynb\" target=\"_parent\"><img src=\"https://colab.research.google.com/assets/colab-badge.svg\" alt=\"Open In Colab\"/></a>"
      ]
    },
    {
      "cell_type": "code",
      "execution_count": null,
      "metadata": {
        "colab": {
          "base_uri": "https://localhost:8080/",
          "height": 393
        },
        "id": "_F6eQpD8gHi8",
        "outputId": "06637f5c-37c1-490d-af09-09ddd282d3c5"
      },
      "outputs": [
        {
          "output_type": "error",
          "ename": "ModuleNotFoundError",
          "evalue": "No module named 'datasets'",
          "traceback": [
            "\u001b[0;31m---------------------------------------------------------------------------\u001b[0m",
            "\u001b[0;31mModuleNotFoundError\u001b[0m                       Traceback (most recent call last)",
            "\u001b[0;32m<ipython-input-1-d3dcff099b5d>\u001b[0m in \u001b[0;36m<cell line: 9>\u001b[0;34m()\u001b[0m\n\u001b[1;32m      7\u001b[0m \u001b[0;32mimport\u001b[0m \u001b[0mwarnings\u001b[0m\u001b[0;34m\u001b[0m\u001b[0;34m\u001b[0m\u001b[0m\n\u001b[1;32m      8\u001b[0m \u001b[0mwarnings\u001b[0m\u001b[0;34m.\u001b[0m\u001b[0mfilterwarnings\u001b[0m\u001b[0;34m(\u001b[0m\u001b[0;34m'ignore'\u001b[0m\u001b[0;34m)\u001b[0m\u001b[0;34m\u001b[0m\u001b[0;34m\u001b[0m\u001b[0m\n\u001b[0;32m----> 9\u001b[0;31m \u001b[0;32mfrom\u001b[0m \u001b[0mdatasets\u001b[0m \u001b[0;32mimport\u001b[0m \u001b[0mload_dataset\u001b[0m\u001b[0;34m\u001b[0m\u001b[0;34m\u001b[0m\u001b[0m\n\u001b[0m\u001b[1;32m     10\u001b[0m \u001b[0;34m\u001b[0m\u001b[0m\n\u001b[1;32m     11\u001b[0m \u001b[0;31m# List of state-specific Hugging Face dataset names\u001b[0m\u001b[0;34m\u001b[0m\u001b[0;34m\u001b[0m\u001b[0m\n",
            "\u001b[0;31mModuleNotFoundError\u001b[0m: No module named 'datasets'",
            "",
            "\u001b[0;31m---------------------------------------------------------------------------\u001b[0;32m\nNOTE: If your import is failing due to a missing package, you can\nmanually install dependencies using either !pip or !apt.\n\nTo view examples of installing some common dependencies, click the\n\"Open Examples\" button below.\n\u001b[0;31m---------------------------------------------------------------------------\u001b[0m\n"
          ],
          "errorDetails": {
            "actions": [
              {
                "action": "open_url",
                "actionText": "Open Examples",
                "url": "/notebooks/snippets/importing_libraries.ipynb"
              }
            ]
          }
        }
      ],
      "source": [
        "import pandas as pd\n",
        "import numpy as np\n",
        "import matplotlib.pyplot as plt\n",
        "from statsmodels.tsa.arima.model import ARIMA\n",
        "from sklearn.metrics import mean_squared_error\n",
        "from sklearn.model_selection import train_test_split\n",
        "import warnings\n",
        "warnings.filterwarnings('ignore')\n",
        "from datasets import load_dataset\n",
        "\n",
        "# List of state-specific Hugging Face dataset names\n",
        "states = [\"Alabama\", \"California\", \"NewYork\", \"Texas\", \"Wyoming\", \"Hawaii\"]\n",
        "\n",
        "# Debugging print: Loop starts\n",
        "print(\"Starting loop over states...\")\n",
        "\n",
        "for state in states:\n",
        "    try:\n",
        "        # Print the state being processed\n",
        "        print(f\"Processing state: {state}\")\n",
        "\n",
        "        # Load each dataset for the respective state\n",
        "        dataset_name = f\"AdityaA44/Racepopulation{state}\"\n",
        "        df = load_dataset(dataset_name, split='train').to_pandas()\n",
        "\n",
        "        # Let user select race column dynamically\n",
        "        selected_race = 'White'  # You can change this to dynamically select other races if needed\n",
        "        population_data = df[selected_race].dropna().reset_index(drop=True)\n",
        "\n",
        "        # Extract years\n",
        "        years = df['Year'].reset_index(drop=True)\n",
        "\n",
        "        # Ensure that population_data and years are aligned\n",
        "        if len(population_data) != len(years):\n",
        "            min_length = min(len(population_data), len(years))\n",
        "            population_data = population_data[:min_length]\n",
        "            years = years[:min_length]\n",
        "\n",
        "        # Perform an 80/20 train-test split\n",
        "        train_size = int(len(population_data) * 0.8)\n",
        "        train_data = population_data[:train_size]\n",
        "        test_data = population_data[train_size:]\n",
        "        train_years = years[:train_size]\n",
        "        test_years = years[train_size:]\n",
        "\n",
        "        # ARIMA model fitting\n",
        "        p, d, q = 1, 1, 1  # Example ARIMA parameters, modify as needed\n",
        "        model = ARIMA(train_data, order=(p, d, q))\n",
        "        model_fit = model.fit()\n",
        "\n",
        "        # Forecast the future (test data)\n",
        "        forecast = model_fit.forecast(steps=len(test_data))\n",
        "\n",
        "        # Combine the fitted values (for training data) and the forecast values\n",
        "        full_prediction = np.concatenate([model_fit.fittedvalues, forecast])\n",
        "\n",
        "        # Calculate the Mean Squared Error on the test data\n",
        "        mse = mean_squared_error(test_data, forecast)\n",
        "        print(f'State: {state}, Mean Squared Error: {mse:.4f}')\n",
        "\n",
        "        # Plot actual vs forecast (with predictions for both training and test data)\n",
        "        plt.figure(figsize=(10, 6))\n",
        "        plt.plot(years, population_data, label='Observed')\n",
        "        plt.plot(years, full_prediction, label='Predicted', color='red')\n",
        "        plt.fill_between(test_years, forecast - 1.96*np.std(forecast),\n",
        "                         forecast + 1.96*np.std(forecast), color='red', alpha=0.2)\n",
        "        plt.legend()\n",
        "        plt.title(f'ARIMA Model Forecast vs Actual for {selected_race} in {state}')\n",
        "        plt.xlabel('Year')\n",
        "        plt.ylabel('Population')\n",
        "        plt.grid(True)\n",
        "        plt.xticks(rotation=45)\n",
        "        plt.tight_layout()\n",
        "        plt.show()\n",
        "\n",
        "    except Exception as e:\n",
        "        # Catch any issues and print which state failed\n",
        "        print(f\"An error occurred while processing {state}: {e}\")\n",
        "\n",
        "# Debugging print: Loop ends\n",
        "print(\"Finished loop over states.\")\n"
      ]
    }
  ]
}